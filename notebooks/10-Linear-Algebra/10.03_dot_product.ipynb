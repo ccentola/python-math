{
 "cells": [
  {
   "cell_type": "markdown",
   "metadata": {},
   "source": [
    "# Dot Product"
   ]
  },
  {
   "cell_type": "code",
   "execution_count": 2,
   "metadata": {},
   "outputs": [],
   "source": [
    "import sympy as sym\n",
    "import numpy as np\n",
    "import matplotlib.pyplot as plt\n",
    "from IPython.display import display, Math"
   ]
  },
  {
   "cell_type": "code",
   "execution_count": 3,
   "metadata": {},
   "outputs": [
    {
     "data": {
      "text/plain": [
       "array([10, 13, 16, 19])"
      ]
     },
     "execution_count": 3,
     "metadata": {},
     "output_type": "execute_result"
    }
   ],
   "source": [
    "v = np.arange(10,20,3)\n",
    "v"
   ]
  },
  {
   "cell_type": "code",
   "execution_count": 4,
   "metadata": {},
   "outputs": [
    {
     "data": {
      "text/plain": [
       "array([ 5,  8, 11, 14])"
      ]
     },
     "execution_count": 4,
     "metadata": {},
     "output_type": "execute_result"
    }
   ],
   "source": [
    "w = np.arange(5,15,3)\n",
    "w"
   ]
  },
  {
   "cell_type": "code",
   "execution_count": 5,
   "metadata": {},
   "outputs": [
    {
     "name": "stdout",
     "output_type": "stream",
     "text": [
      "596 596 596\n"
     ]
    }
   ],
   "source": [
    "dp1 = 0\n",
    "for i in range(0,len(w)):\n",
    "    dp1 = dp1 + v[i] * w[i]\n",
    "    \n",
    "dp2 = np.sum(np.multiply(v,w))\n",
    "dp3 = np.dot(v,w)\n",
    "\n",
    "print(dp1,dp2,dp3)"
   ]
  },
  {
   "cell_type": "code",
   "execution_count": 6,
   "metadata": {},
   "outputs": [],
   "source": [
    "def my_dot(v,w):\n",
    "    '''\n",
    "    compute the dot product so long as \n",
    "    vectors are of the same length.\n",
    "    '''\n",
    "    \n",
    "    v = np.squeeze(v)\n",
    "    w = np.squeeze(w)\n",
    "    \n",
    "    if len(v) != len(w):\n",
    "        raise ValueError('Vectors must have the same length')\n",
    "        \n",
    "    display(Math('v^Tw=%g' %np.dot(v,w)))"
   ]
  },
  {
   "cell_type": "code",
   "execution_count": 7,
   "metadata": {},
   "outputs": [],
   "source": [
    "v1 = np.random.randn(1,10)\n",
    "v2 = np.random.randn(1,10)"
   ]
  },
  {
   "cell_type": "code",
   "execution_count": 8,
   "metadata": {},
   "outputs": [
    {
     "data": {
      "text/latex": [
       "$\\displaystyle v^Tw=0.922581$"
      ],
      "text/plain": [
       "<IPython.core.display.Math object>"
      ]
     },
     "metadata": {},
     "output_type": "display_data"
    }
   ],
   "source": [
    "my_dot(v1,v2)"
   ]
  },
  {
   "cell_type": "markdown",
   "metadata": {},
   "source": [
    "## Correlation Coefficient"
   ]
  },
  {
   "cell_type": "code",
   "execution_count": 12,
   "metadata": {},
   "outputs": [
    {
     "name": "stdout",
     "output_type": "stream",
     "text": [
      "0.60530206024143\n",
      "[[1.         0.60530206]\n",
      " [0.60530206 1.        ]]\n"
     ]
    }
   ],
   "source": [
    "courses = [4,5,8,2,9,9,1,3,7]\n",
    "hapiness = [6,7,9,3,9,3,1,6,7]\n",
    "\n",
    "# mean center\n",
    "c = courses - np.mean(courses)\n",
    "h = hapiness - np.mean(hapiness)\n",
    "\n",
    "n = np.dot(c,h)\n",
    "d = np.sqrt(np.dot(c,c) * np.dot(h,h))\n",
    "\n",
    "r1 = n/d\n",
    "\n",
    "r2 = np.corrcoef(c,h)\n",
    "\n",
    "print(r1)\n",
    "print(r2)"
   ]
  },
  {
   "cell_type": "code",
   "execution_count": 13,
   "metadata": {},
   "outputs": [
    {
     "data": {
      "image/png": "[encoded data removed]",
      "text/plain": [
       "<Figure size 432x288 with 1 Axes>"
      ]
     },
     "metadata": {
      "needs_background": "light"
     },
     "output_type": "display_data"
    }
   ],
   "source": [
    "plt.plot(courses,hapiness,'ms',label='r=%s' %np.round(r1,2))\n",
    "plt.axis([0,10,0,10])\n",
    "plt.legend()\n",
    "plt.gca().set_aspect('equal')\n",
    "plt.xlabel('Courses taken')\n",
    "plt.ylabel('Hapiness')\n",
    "plt.show()\n",
    "     "
   ]
  }
 ],
 "metadata": {
  "kernelspec": {
   "display_name": "Python 3",
   "language": "python",
   "name": "python3"
  },
  "language_info": {
   "codemirror_mode": {
    "name": "ipython",
    "version": 3
   },
   "file_extension": ".py",
   "mimetype": "text/x-python",
   "name": "python",
   "nbconvert_exporter": "python",
   "pygments_lexer": "ipython3",
   "version": "3.7.6"
  }
 },
 "nbformat": 4,
 "nbformat_minor": 4
}
