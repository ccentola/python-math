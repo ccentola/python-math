{
 "cells": [
  {
   "cell_type": "markdown",
   "metadata": {},
   "source": [
    "# Matrix Inverse"
   ]
  },
  {
   "cell_type": "code",
   "execution_count": 1,
   "metadata": {},
   "outputs": [],
   "source": [
    "import numpy as np\n",
    "import matplotlib.pyplot as plt"
   ]
  },
  {
   "cell_type": "code",
   "execution_count": 4,
   "metadata": {},
   "outputs": [
    {
     "name": "stdout",
     "output_type": "stream",
     "text": [
      "[[ 3 -5 -4  2  0]\n",
      " [-5  5  2  0 -1]\n",
      " [ 2  0 -2  0  0]\n",
      " [ 0 -1  0 -5 -1]\n",
      " [-5  4 -2 -3  3]]\n",
      "[[-0.17767296 -0.13836478  0.27515723 -0.03616352 -0.0581761 ]\n",
      " [-0.13993711  0.05031447  0.33176101 -0.05503145 -0.00157233]\n",
      " [-0.17767296 -0.13836478 -0.22484277 -0.03616352 -0.0581761 ]\n",
      " [ 0.06132075  0.05660377 -0.03301887 -0.15566038 -0.03301887]\n",
      " [-0.16666667 -0.33333333 -0.16666667 -0.16666667  0.16666667]]\n"
     ]
    }
   ],
   "source": [
    "m = 5\n",
    "\n",
    "A = np.random.randint(-5,6,(m,m))\n",
    "\n",
    "a_inv = np.linalg.inv(A)\n",
    "print(A)\n",
    "print(a_inv)"
   ]
  },
  {
   "cell_type": "code",
   "execution_count": 5,
   "metadata": {},
   "outputs": [
    {
     "data": {
      "image/png": "[encoded data removed]",
      "text/plain": [
       "<Figure size 432x288 with 3 Axes>"
      ]
     },
     "metadata": {
      "needs_background": "light"
     },
     "output_type": "display_data"
    }
   ],
   "source": [
    "fig,ax = plt.subplots(1,3)\n",
    "\n",
    "ax[0].imshow(A)\n",
    "ax[0].set_title('A')\n",
    "\n",
    "ax[1].imshow(a_inv)\n",
    "ax[1].set_title('A$^{-1}$')\n",
    "\n",
    "ax[2].imshow(A@a_inv)\n",
    "ax[2].set_title('AA$^{-1}$')\n",
    "\n",
    "plt.show()"
   ]
  },
  {
   "cell_type": "code",
   "execution_count": 7,
   "metadata": {},
   "outputs": [
    {
     "name": "stdout",
     "output_type": "stream",
     "text": [
      "[[ 0.02421319 -0.08030419 -0.01399368 -0.00127744  0.1403438 ]\n",
      " [ 0.02421319 -0.08030419 -0.01399368 -0.00127744  0.1403438 ]\n",
      " [-0.18234845  0.03516136 -0.13513956 -0.085314   -0.0254034 ]\n",
      " [ 0.00307094  0.12347362  0.15334714 -0.14455226 -0.32951737]\n",
      " [-0.0400676  -0.11514392  0.02052987  0.12744222  0.12535979]]\n"
     ]
    },
    {
     "data": {
      "image/png": "[encoded data removed]",
      "text/plain": [
       "<Figure size 432x288 with 3 Axes>"
      ]
     },
     "metadata": {
      "needs_background": "light"
     },
     "output_type": "display_data"
    }
   ],
   "source": [
    "m = 5\n",
    "A = np.random.randint(-m,m+1,(m,m))\n",
    "A[:,0] = A[:,1]\n",
    "\n",
    "a_pinv = np.linalg.pinv(A)\n",
    "print(a_pinv)\n",
    "\n",
    "fig,ax = plt.subplots(1,3)\n",
    "\n",
    "ax[0].imshow(A)\n",
    "ax[0].set_title('A')\n",
    "\n",
    "ax[1].imshow(a_pinv)\n",
    "ax[1].set_title('A$^*$')\n",
    "\n",
    "ax[2].imshow(A@a_pinv)\n",
    "ax[2].set_title('AA$*$')\n",
    "\n",
    "plt.show()"
   ]
  },
  {
   "cell_type": "code",
   "execution_count": 9,
   "metadata": {},
   "outputs": [
    {
     "name": "stdout",
     "output_type": "stream",
     "text": [
      "[[-2.25630975e-01 -7.02191438e-01 -3.43998983e-01 -2.54825075e-01\n",
      "   2.60669469e-01]\n",
      " [ 3.77844014e-02  1.98622391e-01  2.18259276e-01  2.75757211e-01\n",
      "   1.38706139e-01]\n",
      " [ 1.17935526e-01 -2.61299632e-01  4.44797331e-01 -3.14863584e-03\n",
      "   6.41539736e-01]\n",
      " [-2.47303647e-01 -2.37929282e-01 -7.36690801e-02 -1.04792500e-02\n",
      "   4.17507969e-02]\n",
      " [ 2.88917962e-01  5.36388127e-01  1.69333571e-04 -2.26684473e-02\n",
      "   1.84440172e-01]\n",
      " [-2.74860751e-01 -1.67928378e-01 -3.40301822e-01 -1.03097988e-01\n",
      "  -1.29924547e-01]\n",
      " [ 4.67806887e-03 -4.45665520e-01 -1.63051701e-01  2.34729689e-01\n",
      "  -6.20946959e-03]]\n"
     ]
    },
    {
     "data": {
      "image/png": "[encoded data removed]",
      "text/plain": [
       "<Figure size 432x288 with 3 Axes>"
      ]
     },
     "metadata": {
      "needs_background": "light"
     },
     "output_type": "display_data"
    }
   ],
   "source": [
    "m = 5\n",
    "A = np.random.randn(m,m+2)\n",
    "\n",
    "a_pinv = np.linalg.pinv(A)\n",
    "print(a_pinv)\n",
    "\n",
    "fig,ax = plt.subplots(1,3)\n",
    "\n",
    "ax[0].imshow(A)\n",
    "ax[0].set_title('A')\n",
    "\n",
    "ax[1].imshow(a_pinv)\n",
    "ax[1].set_title('A$^*$')\n",
    "\n",
    "ax[2].imshow(A@a_pinv)\n",
    "ax[2].set_title('AA$*$')\n",
    "\n",
    "plt.show()"
   ]
  }
 ],
 "metadata": {
  "kernelspec": {
   "display_name": "Python 3",
   "language": "python",
   "name": "python3"
  },
  "language_info": {
   "codemirror_mode": {
    "name": "ipython",
    "version": 3
   },
   "file_extension": ".py",
   "mimetype": "text/x-python",
   "name": "python",
   "nbconvert_exporter": "python",
   "pygments_lexer": "ipython3",
   "version": "3.7.6"
  }
 },
 "nbformat": 4,
 "nbformat_minor": 4
}
