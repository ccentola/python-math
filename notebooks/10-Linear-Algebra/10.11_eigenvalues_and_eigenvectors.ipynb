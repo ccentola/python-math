{
 "cells": [
  {
   "cell_type": "markdown",
   "metadata": {},
   "source": [
    "# Eigenvalues and Eigenvectors"
   ]
  },
  {
   "cell_type": "code",
   "execution_count": 1,
   "metadata": {},
   "outputs": [],
   "source": [
    "import numpy as np\n",
    "import matplotlib.pyplot as plt"
   ]
  },
  {
   "cell_type": "code",
   "execution_count": 3,
   "metadata": {},
   "outputs": [
    {
     "data": {
      "image/png": "[encoded data removed]",
      "text/plain": [
       "<Figure size 432x288 with 3 Axes>"
      ]
     },
     "metadata": {
      "needs_background": "light"
     },
     "output_type": "display_data"
    }
   ],
   "source": [
    "M = np.random.randint(-5,6,(5,5))\n",
    "M = M@M.T\n",
    "\n",
    "eigvals,eigvecs = np.linalg.eig(M)\n",
    "\n",
    "fig,ax = plt.subplots(1,3)\n",
    "\n",
    "ax[0].imshow(M)\n",
    "ax[0].set_title('matrix')\n",
    "\n",
    "ax[1].imshow(np.diag(eigvals))\n",
    "ax[1].set_title('eignevalues')\n",
    "\n",
    "ax[2].imshow(eigvecs)\n",
    "ax[2].set_title('eigenvectors')\n",
    "\n",
    "plt.show()"
   ]
  },
  {
   "cell_type": "code",
   "execution_count": 5,
   "metadata": {},
   "outputs": [
    {
     "name": "stdout",
     "output_type": "stream",
     "text": [
      "[-33.31553887  51.75207656 -26.16038635 -56.66089494  79.17375297]\n",
      "[-33.31553887  51.75207656 -26.16038635 -56.66089494  79.17375297]\n"
     ]
    }
   ],
   "source": [
    "Mv = M@eigvecs[:,0]\n",
    "lv = eigvals[0]*eigvecs[:,0]\n",
    "\n",
    "print(Mv)\n",
    "print(lv)"
   ]
  }
 ],
 "metadata": {
  "kernelspec": {
   "display_name": "Python 3",
   "language": "python",
   "name": "python3"
  },
  "language_info": {
   "codemirror_mode": {
    "name": "ipython",
    "version": 3
   },
   "file_extension": ".py",
   "mimetype": "text/x-python",
   "name": "python",
   "nbconvert_exporter": "python",
   "pygments_lexer": "ipython3",
   "version": "3.7.6"
  }
 },
 "nbformat": 4,
 "nbformat_minor": 4
}
