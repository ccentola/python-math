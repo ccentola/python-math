{
 "cells": [
  {
   "cell_type": "markdown",
   "metadata": {},
   "source": [
    "# Adding and Scalar-Multiplying Vectors"
   ]
  },
  {
   "cell_type": "code",
   "execution_count": 1,
   "metadata": {},
   "outputs": [],
   "source": [
    "import sympy as sym\n",
    "import numpy as np\n",
    "import matplotlib.pyplot as plt\n",
    "from IPython.display import display, Math"
   ]
  },
  {
   "cell_type": "code",
   "execution_count": 5,
   "metadata": {},
   "outputs": [
    {
     "data": {
      "image/png": "[encoded data removed]",
      "text/plain": [
       "<Figure size 432x288 with 1 Axes>"
      ]
     },
     "metadata": {
      "needs_background": "light"
     },
     "output_type": "display_data"
    }
   ],
   "source": [
    "v = np.array([0.5,1])\n",
    "s = [1,-0.5,2,0.5]\n",
    "\n",
    "for i in s:\n",
    "    sv = i*v\n",
    "    plt.plot([0,sv[0]],[0,sv[1]],'o-',linewidth=3,label='$\\\\lambda=%g$' %i)\n",
    "    \n",
    "plt.axis('square')\n",
    "plt.axis([-3,3,-3,3])\n",
    "plt.grid()\n",
    "plt.legend()\n",
    "\n",
    "plt.show()"
   ]
  },
  {
   "cell_type": "code",
   "execution_count": 6,
   "metadata": {},
   "outputs": [
    {
     "name": "stdout",
     "output_type": "stream",
     "text": [
      "[0 3] [0 3] [0. 3.]\n"
     ]
    }
   ],
   "source": [
    "v1 = np.array([-1,2])\n",
    "v2 = np.array([1,1])\n",
    "\n",
    "v3a = v1+v2\n",
    "v3b = np.add(v1,v2)\n",
    "\n",
    "v3c = np.zeros(2)\n",
    "\n",
    "for i in range(0,2):\n",
    "    v3c[i] = v1[i] + v2[i]\n",
    "    \n",
    "print(v3a,v3b,v3c)"
   ]
  },
  {
   "cell_type": "code",
   "execution_count": 12,
   "metadata": {},
   "outputs": [
    {
     "data": {
      "image/png": "[encoded data removed]",
      "text/plain": [
       "<Figure size 432x288 with 1 Axes>"
      ]
     },
     "metadata": {
      "needs_background": "light"
     },
     "output_type": "display_data"
    }
   ],
   "source": [
    "plt.plot( [0,v1[0]],[0,v1[1]],linewidth=3,label='$v_1$')\n",
    "plt.plot( [0,v2[0]] + v1[0],[0,v2[1]]+ v1[1],linewidth=3,label='$v_2$')\n",
    "plt.plot( [0,v3a[0]],[0,v3a[1]],linewidth=3,label='$v_1 + v_2$')\n",
    "\n",
    "plt.axis('square')\n",
    "plt.axis([-2,2,-2,4])\n",
    "plt.legend()\n",
    "plt.grid()\n",
    "plt.show()"
   ]
  }
 ],
 "metadata": {
  "kernelspec": {
   "display_name": "Python 3",
   "language": "python",
   "name": "python3"
  },
  "language_info": {
   "codemirror_mode": {
    "name": "ipython",
    "version": 3
   },
   "file_extension": ".py",
   "mimetype": "text/x-python",
   "name": "python",
   "nbconvert_exporter": "python",
   "pygments_lexer": "ipython3",
   "version": "3.7.6"
  }
 },
 "nbformat": 4,
 "nbformat_minor": 4
}
