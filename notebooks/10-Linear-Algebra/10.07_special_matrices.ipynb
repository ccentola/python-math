{
 "cells": [
  {
   "cell_type": "markdown",
   "metadata": {},
   "source": [
    "# Special Matricies"
   ]
  },
  {
   "cell_type": "code",
   "execution_count": 15,
   "metadata": {},
   "outputs": [],
   "source": [
    "import numpy as np\n",
    "import matplotlib.pyplot as plt\n",
    "from scipy.linalg import toeplitz"
   ]
  },
  {
   "cell_type": "code",
   "execution_count": 2,
   "metadata": {},
   "outputs": [
    {
     "data": {
      "text/plain": [
       "array([[1., 0., 0., 0.],\n",
       "       [0., 1., 0., 0.],\n",
       "       [0., 0., 1., 0.],\n",
       "       [0., 0., 0., 1.]])"
      ]
     },
     "execution_count": 2,
     "metadata": {},
     "output_type": "execute_result"
    }
   ],
   "source": [
    "# identitiy \n",
    "I = np.eye(4)\n",
    "I"
   ]
  },
  {
   "cell_type": "code",
   "execution_count": 3,
   "metadata": {},
   "outputs": [
    {
     "data": {
      "text/plain": [
       "array([[0., 0., 0., 0.],\n",
       "       [0., 0., 0., 0.],\n",
       "       [0., 0., 0., 0.],\n",
       "       [0., 0., 0., 0.]])"
      ]
     },
     "execution_count": 3,
     "metadata": {},
     "output_type": "execute_result"
    }
   ],
   "source": [
    "# zeros\n",
    "Z = np.zeros((4,4))\n",
    "Z"
   ]
  },
  {
   "cell_type": "code",
   "execution_count": 5,
   "metadata": {},
   "outputs": [
    {
     "name": "stdout",
     "output_type": "stream",
     "text": [
      "[[1 0 0 0 0]\n",
      " [0 2 0 0 0]\n",
      " [0 0 6 0 0]\n",
      " [0 0 0 3 0]\n",
      " [0 0 0 0 0]]\n",
      "[ 0.83720187 -1.08362752  0.95909679  0.10753291 -2.25459914  1.52016343]\n"
     ]
    }
   ],
   "source": [
    "# diagonal\n",
    "D = np.diag([1,2,6,3,0])\n",
    "print(D)\n",
    "\n",
    "d = np.diagonal(np.random.randn(6,6))\n",
    "print(d)"
   ]
  },
  {
   "cell_type": "code",
   "execution_count": 10,
   "metadata": {},
   "outputs": [
    {
     "data": {
      "image/png": "[encoded data removed]",
      "text/plain": [
       "<Figure size 432x288 with 1 Axes>"
      ]
     },
     "metadata": {
      "needs_background": "light"
     },
     "output_type": "display_data"
    }
   ],
   "source": [
    "# triangular\n",
    "t = np.random.randn(15,15)\n",
    "\n",
    "# lower\n",
    "plt.imshow(np.tril(t))\n",
    "\n",
    "plt.show()"
   ]
  },
  {
   "cell_type": "code",
   "execution_count": 9,
   "metadata": {},
   "outputs": [
    {
     "data": {
      "text/plain": [
       "<matplotlib.image.AxesImage at 0x7fbe2ae68510>"
      ]
     },
     "execution_count": 9,
     "metadata": {},
     "output_type": "execute_result"
    },
    {
     "data": {
      "image/png": "[encoded data removed]",
      "text/plain": [
       "<Figure size 432x288 with 1 Axes>"
      ]
     },
     "metadata": {
      "needs_background": "light"
     },
     "output_type": "display_data"
    }
   ],
   "source": [
    "# upper\n",
    "plt.imshow(np.triu(t))"
   ]
  },
  {
   "cell_type": "code",
   "execution_count": 12,
   "metadata": {},
   "outputs": [
    {
     "name": "stdout",
     "output_type": "stream",
     "text": [
      "[[-1  2 -4 -4]\n",
      " [ 2  4  4 -3]\n",
      " [ 0 -3  4  0]\n",
      " [-2 -3 -4  0]]\n",
      "\n",
      "\n",
      "[[-1.  2. -4. -4.]\n",
      " [ 2.  4.  4. -3.]\n",
      " [ 0. -3.  4.  0.]\n",
      " [-2. -3. -4.  0.]]\n"
     ]
    }
   ],
   "source": [
    "mat = np.random.randint(-4,5,(4,4))\n",
    "I = np.eye(4)\n",
    "upper_4 = np.triu(np.random.randn(4,4))\n",
    "\n",
    "print(mat)\n",
    "print('\\n')\n",
    "print(mat@I)"
   ]
  },
  {
   "cell_type": "code",
   "execution_count": 13,
   "metadata": {},
   "outputs": [
    {
     "name": "stdout",
     "output_type": "stream",
     "text": [
      "[[-1  2 -4 -4]\n",
      " [ 2  4  4 -3]\n",
      " [ 0 -3  4  0]\n",
      " [-2 -3 -4  0]]\n",
      "\n",
      "\n",
      "[[-0.71854087  1.2656145  -3.23011657  3.56248117]\n",
      " [ 1.43708174  1.14000165  7.07193084 -2.46545118]\n",
      " [ 0.         -1.37671149  4.67455053  1.15588212]\n",
      " [-1.43708174 -0.68109782 -6.01468119  4.77792053]]\n"
     ]
    }
   ],
   "source": [
    "print(mat)\n",
    "print('\\n')\n",
    "print(mat@upper_4)"
   ]
  },
  {
   "cell_type": "code",
   "execution_count": 17,
   "metadata": {},
   "outputs": [
    {
     "name": "stdout",
     "output_type": "stream",
     "text": [
      "[[1 2 3 4]\n",
      " [2 1 2 3]\n",
      " [3 2 1 2]\n",
      " [4 3 2 1]]\n"
     ]
    },
    {
     "data": {
      "text/plain": [
       "<matplotlib.image.AxesImage at 0x7fbe29fe2610>"
      ]
     },
     "execution_count": 17,
     "metadata": {},
     "output_type": "execute_result"
    },
    {
     "data": {
      "image/png": "[encoded data removed]",
      "text/plain": [
       "<Figure size 432x288 with 1 Axes>"
      ]
     },
     "metadata": {
      "needs_background": "light"
     },
     "output_type": "display_data"
    }
   ],
   "source": [
    "toe = toeplitz(np.arange(1,5))\n",
    "print(toe)\n",
    "plt.imshow(toe)"
   ]
  },
  {
   "cell_type": "code",
   "execution_count": null,
   "metadata": {},
   "outputs": [],
   "source": []
  }
 ],
 "metadata": {
  "kernelspec": {
   "display_name": "Python 3",
   "language": "python",
   "name": "python3"
  },
  "language_info": {
   "codemirror_mode": {
    "name": "ipython",
    "version": 3
   },
   "file_extension": ".py",
   "mimetype": "text/x-python",
   "name": "python",
   "nbconvert_exporter": "python",
   "pygments_lexer": "ipython3",
   "version": "3.7.6"
  }
 },
 "nbformat": 4,
 "nbformat_minor": 4
}
