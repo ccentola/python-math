{
 "cells": [
  {
   "cell_type": "markdown",
   "metadata": {},
   "source": [
    "# Derivatives of Polynomials"
   ]
  },
  {
   "cell_type": "code",
   "execution_count": 1,
   "metadata": {},
   "outputs": [],
   "source": [
    "import sympy as sym\n",
    "import numpy as np\n",
    "import matplotlib.pyplot as plt\n",
    "from IPython.display import display, Math"
   ]
  },
  {
   "cell_type": "code",
   "execution_count": 4,
   "metadata": {},
   "outputs": [
    {
     "data": {
      "text/latex": [
       "$\\displaystyle 2 x$"
      ],
      "text/plain": [
       "2*x"
      ]
     },
     "execution_count": 4,
     "metadata": {},
     "output_type": "execute_result"
    }
   ],
   "source": [
    "x = sym.symbols('x')\n",
    "\n",
    "fx = x**2\n",
    "dfx = sym.diff(fx)\n",
    "\n",
    "dfx"
   ]
  },
  {
   "cell_type": "code",
   "execution_count": 8,
   "metadata": {},
   "outputs": [
    {
     "data": {
      "text/latex": [
       "$\\displaystyle f(x) = x^{2}, \\quad \\frac{df}{dx}=2 x$"
      ],
      "text/plain": [
       "<IPython.core.display.Math object>"
      ]
     },
     "metadata": {},
     "output_type": "display_data"
    },
    {
     "data": {
      "text/latex": [
       "$\\displaystyle f(x) = x^{2}, \\quad f'=2 x$"
      ],
      "text/plain": [
       "<IPython.core.display.Math object>"
      ]
     },
     "metadata": {},
     "output_type": "display_data"
    },
    {
     "data": {
      "text/latex": [
       "$\\displaystyle f(x) = x^{2}, \\quad \\dot{f}=2 x$"
      ],
      "text/plain": [
       "<IPython.core.display.Math object>"
      ]
     },
     "metadata": {},
     "output_type": "display_data"
    }
   ],
   "source": [
    "# leibniz\n",
    "display(Math('f(x) = %s, \\\\quad \\\\frac{df}{dx}=%s' %(sym.latex(fx),sym.latex(dfx))))\n",
    "\n",
    "# lagrange\n",
    "display(Math('f(x) = %s, \\\\quad f\\'=%s' %(sym.latex(fx),sym.latex(dfx))))\n",
    "\n",
    "# newton\n",
    "display(Math('f(x) = %s, \\\\quad \\\\dot{f}=%s' %(sym.latex(fx),sym.latex(dfx))))"
   ]
  },
  {
   "cell_type": "code",
   "execution_count": 12,
   "metadata": {},
   "outputs": [
    {
     "data": {
      "image/png": "[encoded data removed]",
      "text/plain": [
       "<Figure size 432x288 with 1 Axes>"
      ]
     },
     "metadata": {
      "needs_background": "light"
     },
     "output_type": "display_data"
    }
   ],
   "source": [
    "import sympy.plotting.plot as symplot\n",
    "\n",
    "fx = 3 - x**3\n",
    "\n",
    "p = symplot(fx,(x,-5,5),show=False)\n",
    "p.extend(symplot(sym.diff(fx),(x,-3,3),show=False))\n",
    "p[1].line_color = 'r'\n",
    "p[0].label = '$f(x) = %s$' %sym.latex(fx)\n",
    "p[1].label = '$f(x) = %s$' %sym.latex(sym.diff(fx))\n",
    "\n",
    "p.legend = True\n",
    "p.ylim = [-10,10]\n",
    "p.xlim = [-3,3]\n",
    "p.show()"
   ]
  },
  {
   "cell_type": "code",
   "execution_count": null,
   "metadata": {},
   "outputs": [],
   "source": []
  }
 ],
 "metadata": {
  "kernelspec": {
   "display_name": "Python 3",
   "language": "python",
   "name": "python3"
  },
  "language_info": {
   "codemirror_mode": {
    "name": "ipython",
    "version": 3
   },
   "file_extension": ".py",
   "mimetype": "text/x-python",
   "name": "python",
   "nbconvert_exporter": "python",
   "pygments_lexer": "ipython3",
   "version": "3.7.6"
  }
 },
 "nbformat": 4,
 "nbformat_minor": 4
}
