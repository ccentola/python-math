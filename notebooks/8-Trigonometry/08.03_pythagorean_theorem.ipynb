{
 "cells": [
  {
   "cell_type": "markdown",
   "metadata": {},
   "source": [
    "# The Pythagorean Theorem"
   ]
  },
  {
   "cell_type": "code",
   "execution_count": 1,
   "metadata": {},
   "outputs": [],
   "source": [
    "import numpy as np\n",
    "import matplotlib.pyplot as plt"
   ]
  },
  {
   "cell_type": "code",
   "execution_count": 12,
   "metadata": {},
   "outputs": [
    {
     "data": {
      "image/png": "[encoded data removed]",
      "text/plain": [
       "<Figure size 432x288 with 1 Axes>"
      ]
     },
     "metadata": {
      "needs_background": "light"
     },
     "output_type": "display_data"
    }
   ],
   "source": [
    "a = 3\n",
    "b = 4\n",
    "c = np.sqrt(a **2 + b**2)\n",
    "\n",
    "# draw triangle\n",
    "plt.plot([0,a],[0,0],'k')\n",
    "plt.plot([0,0],[0,b],'k')\n",
    "plt.plot([0,a],[b,0],'k')\n",
    "\n",
    "# draw rigth angle indicator\n",
    "plt.plot([0.3,0.3],[0,0.3],'k',linewidth=1)\n",
    "plt.plot([0,0.3],[0.3,0.3],'k',linewidth=1)\n",
    "\n",
    "# labels\n",
    "plt.text(a/3,-0.45,f'a={str(a)}',fontsize=15)\n",
    "plt.text(0.1,b/3,f'b={str(b)}',fontsize=15)\n",
    "plt.text(a/2+0.1,b/2,f'c={str(c)}',fontsize=15)\n",
    "\n",
    "plt.axis('square')\n",
    "axlim = np.max((a,b)) + 0.5\n",
    "plt.axis([-0.5,axlim,-0.5,axlim])\n",
    "plt.axis('off')\n",
    "\n",
    "plt.show()"
   ]
  },
  {
   "cell_type": "code",
   "execution_count": 15,
   "metadata": {},
   "outputs": [
    {
     "name": "stdout",
     "output_type": "stream",
     "text": [
      "5.0 5.0\n"
     ]
    }
   ],
   "source": [
    "z = np.complex(3,4)\n",
    "\n",
    "mag1 = np.sqrt(np.real(z)**2 + np.imag(z)**2)\n",
    "mag2 = np.abs(z)\n",
    "\n",
    "print(mag1,mag2)"
   ]
  },
  {
   "cell_type": "code",
   "execution_count": 14,
   "metadata": {},
   "outputs": [
    {
     "name": "stdout",
     "output_type": "stream",
     "text": [
      "0.9272952180016122 0.9272952180016122\n"
     ]
    }
   ],
   "source": [
    "ang1 = np.arctan2(np.imag(z),np.real(z))\n",
    "ang2 = np.angle(z)\n",
    "\n",
    "print(ang1,ang2)"
   ]
  },
  {
   "cell_type": "code",
   "execution_count": null,
   "metadata": {},
   "outputs": [],
   "source": []
  }
 ],
 "metadata": {
  "kernelspec": {
   "display_name": "Python 3",
   "language": "python",
   "name": "python3"
  },
  "language_info": {
   "codemirror_mode": {
    "name": "ipython",
    "version": 3
   },
   "file_extension": ".py",
   "mimetype": "text/x-python",
   "name": "python",
   "nbconvert_exporter": "python",
   "pygments_lexer": "ipython3",
   "version": "3.7.6"
  }
 },
 "nbformat": 4,
 "nbformat_minor": 4
}
