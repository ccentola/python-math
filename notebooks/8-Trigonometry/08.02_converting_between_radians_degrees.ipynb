{
 "cells": [
  {
   "cell_type": "markdown",
   "metadata": {},
   "source": [
    "# Coverting Between Radians and Degrees"
   ]
  },
  {
   "cell_type": "code",
   "execution_count": 1,
   "metadata": {},
   "outputs": [],
   "source": [
    "import numpy as np\n",
    "import matplotlib.pyplot as plt"
   ]
  },
  {
   "cell_type": "code",
   "execution_count": 3,
   "metadata": {},
   "outputs": [
    {
     "name": "stdout",
     "output_type": "stream",
     "text": [
      "180 degress is 3.141592653589793 radians\n"
     ]
    }
   ],
   "source": [
    "deg = 180\n",
    "rad = deg * np.pi / 180\n",
    "rad = rad % (2 * np.pi)\n",
    "\n",
    "print(f'{deg} degress is {rad} radians')"
   ]
  },
  {
   "cell_type": "code",
   "execution_count": 4,
   "metadata": {},
   "outputs": [
    {
     "data": {
      "text/plain": [
       "180.0"
      ]
     },
     "execution_count": 4,
     "metadata": {},
     "output_type": "execute_result"
    }
   ],
   "source": [
    "rad = np.pi\n",
    "\n",
    "deg = (180 * rad / np.pi) % 360\n",
    "deg"
   ]
  },
  {
   "cell_type": "code",
   "execution_count": 5,
   "metadata": {},
   "outputs": [
    {
     "data": {
      "text/plain": [
       "12.566370614359172"
      ]
     },
     "execution_count": 5,
     "metadata": {},
     "output_type": "execute_result"
    }
   ],
   "source": [
    "deg = 720\n",
    "\n",
    "rad = np.deg2rad(deg)\n",
    "rad"
   ]
  },
  {
   "cell_type": "code",
   "execution_count": 13,
   "metadata": {},
   "outputs": [],
   "source": [
    "def angle_to_convert():\n",
    "    \n",
    "    angle = eval(input('What angle to convert? '))\n",
    "    unit = input('Which unit did you input? (radians or degrees)')\n",
    "    \n",
    "    \n",
    "    \n",
    "    if unit == 'radians':\n",
    "        rad = angle\n",
    "        deg = np.rad2deg(angle)\n",
    "    elif unit == 'degrees':\n",
    "        deg = angle\n",
    "        rad = np.deg2rad(angle)\n",
    "    else:\n",
    "        raise ValueError('Unkown unit!')\n",
    "        \n",
    "    # graph\n",
    "    plt.plot([0,1],[0,0],'r',linewidth=2)\n",
    "    plt.plot([0,np.cos(rad)],[0,np.sin(rad)],'r',linewidth=3)\n",
    "    plt.axis('square')\n",
    "    plt.axis([-1,1,-1,1])\n",
    "    plt.grid()\n",
    "    plt.title(f'Angle is ${deg}^o$ or {rad}')\n",
    "    plt.show()"
   ]
  },
  {
   "cell_type": "code",
   "execution_count": 14,
   "metadata": {},
   "outputs": [
    {
     "name": "stdin",
     "output_type": "stream",
     "text": [
      "What angle to convert?  78\n",
      "Which unit did you input? (radians or degrees) degrees\n"
     ]
    },
    {
     "data": {
      "image/png": "[encoded data removed]",
      "text/plain": [
       "<Figure size 432x288 with 1 Axes>"
      ]
     },
     "metadata": {
      "needs_background": "light"
     },
     "output_type": "display_data"
    }
   ],
   "source": [
    "angle_to_convert()"
   ]
  },
  {
   "cell_type": "code",
   "execution_count": null,
   "metadata": {},
   "outputs": [],
   "source": []
  }
 ],
 "metadata": {
  "kernelspec": {
   "display_name": "Python 3",
   "language": "python",
   "name": "python3"
  },
  "language_info": {
   "codemirror_mode": {
    "name": "ipython",
    "version": 3
   },
   "file_extension": ".py",
   "mimetype": "text/x-python",
   "name": "python",
   "nbconvert_exporter": "python",
   "pygments_lexer": "ipython3",
   "version": "3.7.6"
  }
 },
 "nbformat": 4,
 "nbformat_minor": 4
}
