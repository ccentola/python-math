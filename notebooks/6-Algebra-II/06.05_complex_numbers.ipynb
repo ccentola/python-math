{
 "cells": [
  {
   "cell_type": "markdown",
   "metadata": {},
   "source": [
    "# Complex Numbers"
   ]
  },
  {
   "cell_type": "markdown",
   "metadata": {},
   "source": [
    "## Addition and Subtraction"
   ]
  },
  {
   "cell_type": "code",
   "execution_count": 10,
   "metadata": {},
   "outputs": [],
   "source": [
    "import numpy as np\n",
    "import sympy as sym\n",
    "import matplotlib.pyplot as plt\n",
    "from IPython.display import display,Math"
   ]
  },
  {
   "cell_type": "code",
   "execution_count": 2,
   "metadata": {},
   "outputs": [
    {
     "name": "stdout",
     "output_type": "stream",
     "text": [
      "1j\n",
      "nan\n",
      "1j\n",
      "I\n"
     ]
    },
    {
     "name": "stderr",
     "output_type": "stream",
     "text": [
      "/home/ccentola/anaconda3/lib/python3.7/site-packages/ipykernel_launcher.py:2: RuntimeWarning: invalid value encountered in sqrt\n",
      "  \n"
     ]
    }
   ],
   "source": [
    "print(1j)\n",
    "print(np.sqrt(-1))\n",
    "print(np.sqrt(-1,dtype='complex'))\n",
    "print(sym.I)"
   ]
  },
  {
   "cell_type": "code",
   "execution_count": 3,
   "metadata": {},
   "outputs": [
    {
     "name": "stdout",
     "output_type": "stream",
     "text": [
      "(4-5j)\n",
      "(4-5j)\n"
     ]
    }
   ],
   "source": [
    "real_part = 4\n",
    "img_part = -5\n",
    "\n",
    "cn1 = np.complex(real_part,img_part)\n",
    "cn2 = real_part + 1j*img_part\n",
    "\n",
    "print(cn1)\n",
    "print(cn2)"
   ]
  },
  {
   "cell_type": "code",
   "execution_count": 4,
   "metadata": {},
   "outputs": [
    {
     "name": "stdout",
     "output_type": "stream",
     "text": [
      "(4+5j)\n",
      "(3+2j)\n",
      "(1+3j)\n",
      "4.0\n",
      "5.0\n"
     ]
    }
   ],
   "source": [
    "z1 = np.complex(4,5)\n",
    "z2 = np.complex(3,2)\n",
    "\n",
    "print(z1)\n",
    "print(z2)\n",
    "\n",
    "print(z1 - z2)\n",
    "\n",
    "print(np.real(z1))\n",
    "print(np.imag(z1))"
   ]
  },
  {
   "cell_type": "markdown",
   "metadata": {},
   "source": [
    "## Conjugate and Multiplication"
   ]
  },
  {
   "cell_type": "code",
   "execution_count": 6,
   "metadata": {},
   "outputs": [
    {
     "name": "stdout",
     "output_type": "stream",
     "text": [
      "(34+22j)\n"
     ]
    }
   ],
   "source": [
    "z1 = np.complex(4,5)\n",
    "z2 = np.complex(6,-2)\n",
    "\n",
    "print(z1*z2)"
   ]
  },
  {
   "cell_type": "code",
   "execution_count": 7,
   "metadata": {},
   "outputs": [
    {
     "data": {
      "text/plain": [
       "(4-5j)"
      ]
     },
     "execution_count": 7,
     "metadata": {},
     "output_type": "execute_result"
    }
   ],
   "source": [
    "np.conj(z1)"
   ]
  },
  {
   "cell_type": "markdown",
   "metadata": {},
   "source": [
    "## Division with Complex Numbers"
   ]
  },
  {
   "cell_type": "code",
   "execution_count": 9,
   "metadata": {},
   "outputs": [
    {
     "data": {
      "text/latex": [
       "$\\displaystyle \\frac{(4+2j)}{2} = (2+1j)$"
      ],
      "text/plain": [
       "<IPython.core.display.Math object>"
      ]
     },
     "metadata": {},
     "output_type": "display_data"
    }
   ],
   "source": [
    "z = np.complex(4,2)\n",
    "\n",
    "display(Math('\\\\frac{%s}{2} = %s' %(z,z/2)))"
   ]
  },
  {
   "cell_type": "markdown",
   "metadata": {},
   "source": [
    "## Graphing Complex Numbers"
   ]
  },
  {
   "cell_type": "code",
   "execution_count": 15,
   "metadata": {},
   "outputs": [
    {
     "data": {
      "text/plain": [
       "[-4, 4, -4, 4]"
      ]
     },
     "execution_count": 15,
     "metadata": {},
     "output_type": "execute_result"
    },
    {
     "data": {
      "image/png": "[encoded data removed]",
      "text/plain": [
       "<Figure size 432x288 with 1 Axes>"
      ]
     },
     "metadata": {
      "needs_background": "light"
     },
     "output_type": "display_data"
    }
   ],
   "source": [
    "z = np.complex(2,3)\n",
    "\n",
    "plt.plot(np.real(z),np.imag(z),'ro')\n",
    "plt.plot([0,np.real(z)],[0,np.imag(z)],'r')\n",
    "\n",
    "plt.xlabel('real')\n",
    "plt.ylabel('imag')\n",
    "plt.grid()\n",
    "plt.axis([-4,4,-4,4])"
   ]
  },
  {
   "cell_type": "code",
   "execution_count": 18,
   "metadata": {},
   "outputs": [
    {
     "data": {
      "image/png": "[encoded data removed]",
      "text/plain": [
       "<Figure size 432x288 with 1 Axes>"
      ]
     },
     "metadata": {
      "needs_background": "light"
     },
     "output_type": "display_data"
    }
   ],
   "source": [
    "z1 = np.complex(-3,1)\n",
    "z2 = np.complex(-1,1)\n",
    "\n",
    "z3 = z1 + z2\n",
    "\n",
    "\n",
    "plt.plot([0,np.real(z1)],[0,np.imag(z1)],label='z1')\n",
    "plt.plot([0,np.real(z2)],[0,np.imag(z2)],label='z2')\n",
    "plt.plot([0,np.real(z3)],[0,np.imag(z3)],label='z1 + z2')\n",
    "\n",
    "plt.xlabel('real')\n",
    "plt.ylabel('imag')\n",
    "plt.grid()\n",
    "plt.axis('square')\n",
    "plt.legend()\n",
    "plt.axis([-5,5,-5,5])\n",
    "\n",
    "plt.show()"
   ]
  },
  {
   "cell_type": "code",
   "execution_count": null,
   "metadata": {},
   "outputs": [],
   "source": []
  }
 ],
 "metadata": {
  "kernelspec": {
   "display_name": "Python 3",
   "language": "python",
   "name": "python3"
  },
  "language_info": {
   "codemirror_mode": {
    "name": "ipython",
    "version": 3
   },
   "file_extension": ".py",
   "mimetype": "text/x-python",
   "name": "python",
   "nbconvert_exporter": "python",
   "pygments_lexer": "ipython3",
   "version": "3.7.6"
  }
 },
 "nbformat": 4,
 "nbformat_minor": 4
}
