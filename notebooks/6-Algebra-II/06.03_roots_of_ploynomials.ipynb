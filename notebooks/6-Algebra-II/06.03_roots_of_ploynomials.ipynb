{
 "cells": [
  {
   "cell_type": "markdown",
   "metadata": {},
   "source": [
    "# Roots of Polynomials"
   ]
  },
  {
   "cell_type": "code",
   "execution_count": 1,
   "metadata": {},
   "outputs": [],
   "source": [
    "import numpy as np\n",
    "import sympy as sym\n",
    "from IPython.display import display, Math"
   ]
  },
  {
   "cell_type": "code",
   "execution_count": 2,
   "metadata": {},
   "outputs": [
    {
     "name": "stdout",
     "output_type": "stream",
     "text": [
      "[-1.          0.33333333]\n"
     ]
    }
   ],
   "source": [
    "# polynomial\n",
    "# 3x**2 + 2*x - 1 = 0\n",
    "\n",
    "coefs = [3,2,-1]\n",
    "\n",
    "roots = np.roots(coefs)\n",
    "print(roots)"
   ]
  },
  {
   "cell_type": "code",
   "execution_count": 3,
   "metadata": {},
   "outputs": [
    {
     "name": "stdout",
     "output_type": "stream",
     "text": [
      "A degree-1 ploynomial has 0 roots \n",
      "A degree-2 ploynomial has 1 roots \n",
      "A degree-3 ploynomial has 2 roots \n",
      "A degree-4 ploynomial has 3 roots \n",
      "A degree-5 ploynomial has 4 roots \n",
      "A degree-6 ploynomial has 5 roots \n",
      "A degree-7 ploynomial has 6 roots \n",
      "A degree-8 ploynomial has 7 roots \n",
      "A degree-9 ploynomial has 8 roots \n",
      "A degree-10 ploynomial has 9 roots \n"
     ]
    }
   ],
   "source": [
    "for i in range(1,11):\n",
    "    coefs = np.arange(1,i+1)\n",
    "    print(f'A degree-{len(coefs)} ploynomial has {len(np.roots(coefs))} roots ')"
   ]
  },
  {
   "cell_type": "markdown",
   "metadata": {},
   "source": []
  }
 ],
 "metadata": {
  "kernelspec": {
   "display_name": "Python 3",
   "language": "python",
   "name": "python3"
  },
  "language_info": {
   "codemirror_mode": {
    "name": "ipython",
    "version": 3
   },
   "file_extension": ".py",
   "mimetype": "text/x-python",
   "name": "python",
   "nbconvert_exporter": "python",
   "pygments_lexer": "ipython3",
   "version": "3.7.6"
  }
 },
 "nbformat": 4,
 "nbformat_minor": 4
}
