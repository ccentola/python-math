{
 "cells": [
  {
   "cell_type": "markdown",
   "metadata": {},
   "source": [
    "# Create Interactive Math Functions"
   ]
  },
  {
   "cell_type": "code",
   "execution_count": 6,
   "metadata": {},
   "outputs": [],
   "source": [
    "from IPython.display import display, Math\n",
    "from random import randint"
   ]
  },
  {
   "cell_type": "code",
   "execution_count": 1,
   "metadata": {},
   "outputs": [
    {
     "name": "stdout",
     "output_type": "stream",
     "text": [
      "hello world\n"
     ]
    }
   ],
   "source": [
    "def my_function():\n",
    "    print('hello world')\n",
    "    \n",
    "my_function()"
   ]
  },
  {
   "cell_type": "markdown",
   "metadata": {},
   "source": [
    "## Exercises"
   ]
  },
  {
   "cell_type": "code",
   "execution_count": 3,
   "metadata": {},
   "outputs": [],
   "source": [
    "# exercise 1\n",
    "def compute_remainder(x,y):\n",
    "    \n",
    "    '''\n",
    "    Computes division and remainder of x/y\n",
    "    '''\n",
    "    \n",
    "    div = int(x/y)\n",
    "    remainder = x%y\n",
    "    \n",
    "    print(f'{y} goes into {x}, {div} times with a remainder of {remainder}')"
   ]
  },
  {
   "cell_type": "code",
   "execution_count": 4,
   "metadata": {},
   "outputs": [
    {
     "name": "stdout",
     "output_type": "stream",
     "text": [
      "2 goes into 10, 5 times with a remainder of 0\n"
     ]
    }
   ],
   "source": [
    "compute_remainder(10,2)"
   ]
  },
  {
   "cell_type": "code",
   "execution_count": 6,
   "metadata": {},
   "outputs": [
    {
     "name": "stdout",
     "output_type": "stream",
     "text": [
      "4 goes into 75, 18 times with a remainder of 3\n"
     ]
    }
   ],
   "source": [
    "compute_remainder(75,4)"
   ]
  },
  {
   "cell_type": "code",
   "execution_count": 12,
   "metadata": {},
   "outputs": [],
   "source": [
    "# exercise 2\n",
    "def compute_remainder_input():\n",
    "    '''\n",
    "    Computes division and remainder of x/y given user input\n",
    "    '''\n",
    "    \n",
    "    x = int(input('Input the numerator:'))\n",
    "    y = int(input('Input the denominator:'))\n",
    "    \n",
    "    div = int(x/y)\n",
    "    remainder = x%y\n",
    "    \n",
    "    print(f'{y} goes into {x}, {div} times with a remainder of {remainder}')"
   ]
  },
  {
   "cell_type": "code",
   "execution_count": 13,
   "metadata": {},
   "outputs": [
    {
     "name": "stdin",
     "output_type": "stream",
     "text": [
      "Input the numerator: 112\n",
      "Input the denominator: 73\n"
     ]
    },
    {
     "name": "stdout",
     "output_type": "stream",
     "text": [
      "73 goes into 112, 1 times with a remainder of 39\n"
     ]
    }
   ],
   "source": [
    "compute_remainder_input()"
   ]
  },
  {
   "cell_type": "code",
   "execution_count": 24,
   "metadata": {},
   "outputs": [],
   "source": [
    "# exercise 3\n",
    "def power(x,y):\n",
    "    return display(Math(rf'{x}^{y} = {x**y}'))\n",
    "\n",
    "def division(x,y):\n",
    "    return display(Math(rf'\\frac{x}{y} = {x/y}'))\n",
    "\n",
    "def main_function():\n",
    "    \n",
    "    '''Uses a switch to decide which function to select'''\n",
    "    \n",
    "    x = int(input('Input X:'))\n",
    "    y = int(input('Input Y:'))\n",
    "    switch = int(input(f'Press \"1\" to compute {x}^{y} or \"2\" to compute {x}/{y}'))\n",
    "    \n",
    "    if switch == 1:\n",
    "        return power(x,y)\n",
    "    elif switch == 2:\n",
    "        return division(x,y)\n",
    "    else:\n",
    "        print('Please select either 1 or 2')"
   ]
  },
  {
   "cell_type": "code",
   "execution_count": 26,
   "metadata": {},
   "outputs": [
    {
     "name": "stdin",
     "output_type": "stream",
     "text": [
      "Input X: 3\n",
      "Input Y: 5\n",
      "Press \"1\" to compute 3^5 or \"2\" to compute 3/5 2\n"
     ]
    },
    {
     "data": {
      "text/latex": [
       "$\\displaystyle \\frac35 = 0.6$"
      ],
      "text/plain": [
       "<IPython.core.display.Math object>"
      ]
     },
     "metadata": {},
     "output_type": "display_data"
    }
   ],
   "source": [
    "main_function()"
   ]
  },
  {
   "cell_type": "code",
   "execution_count": 21,
   "metadata": {},
   "outputs": [],
   "source": [
    "# exercise 4\n",
    "def guessing_game():\n",
    "    \n",
    "    # generate a random number between 1-100\n",
    "    x = randint(1,100)\n",
    "    \n",
    "    # ask user for a guess\n",
    "    guess = int(input('Guess a number between 1 and 100.'))\n",
    "    \n",
    "    # count guesses\n",
    "    guesses = 0\n",
    "    \n",
    "    while guess != x:\n",
    "        \n",
    "        guesses += 1\n",
    "        \n",
    "        if guess > 100 or guess < 1:\n",
    "            print('Please select a number between 1 and 100')\n",
    "            \n",
    "        elif guess < x:\n",
    "            print('guess higher')\n",
    "            \n",
    "        elif guess > x:\n",
    "            print('guess lower')\n",
    "            \n",
    "        else:\n",
    "            break\n",
    "            \n",
    "        \n",
    "        guess = int(input('Guess a number between 1 and 100.'))\n",
    "    \n",
    "    print(f'Correct! It only took you {guesses} guesses')\n",
    "        \n"
   ]
  },
  {
   "cell_type": "code",
   "execution_count": 22,
   "metadata": {},
   "outputs": [
    {
     "name": "stdin",
     "output_type": "stream",
     "text": [
      "Guess a number between 1 and 100. 40\n"
     ]
    },
    {
     "name": "stdout",
     "output_type": "stream",
     "text": [
      "guess higher\n"
     ]
    },
    {
     "name": "stdin",
     "output_type": "stream",
     "text": [
      "Guess a number between 1 and 100. 50\n"
     ]
    },
    {
     "name": "stdout",
     "output_type": "stream",
     "text": [
      "guess higher\n"
     ]
    },
    {
     "name": "stdin",
     "output_type": "stream",
     "text": [
      "Guess a number between 1 and 100. 60\n"
     ]
    },
    {
     "name": "stdout",
     "output_type": "stream",
     "text": [
      "guess higher\n"
     ]
    },
    {
     "name": "stdin",
     "output_type": "stream",
     "text": [
      "Guess a number between 1 and 100. 70\n"
     ]
    },
    {
     "name": "stdout",
     "output_type": "stream",
     "text": [
      "guess higher\n"
     ]
    },
    {
     "name": "stdin",
     "output_type": "stream",
     "text": [
      "Guess a number between 1 and 100. 80\n"
     ]
    },
    {
     "name": "stdout",
     "output_type": "stream",
     "text": [
      "guess lower\n"
     ]
    },
    {
     "name": "stdin",
     "output_type": "stream",
     "text": [
      "Guess a number between 1 and 100. 75\n"
     ]
    },
    {
     "name": "stdout",
     "output_type": "stream",
     "text": [
      "guess lower\n"
     ]
    },
    {
     "name": "stdin",
     "output_type": "stream",
     "text": [
      "Guess a number between 1 and 100. 72\n"
     ]
    },
    {
     "name": "stdout",
     "output_type": "stream",
     "text": [
      "Correct! It only took you 6 guesses\n"
     ]
    }
   ],
   "source": [
    "guessing_game()"
   ]
  },
  {
   "cell_type": "code",
   "execution_count": null,
   "metadata": {},
   "outputs": [],
   "source": []
  }
 ],
 "metadata": {
  "kernelspec": {
   "display_name": "Python 3",
   "language": "python",
   "name": "python3"
  },
  "language_info": {
   "codemirror_mode": {
    "name": "ipython",
    "version": 3
   },
   "file_extension": ".py",
   "mimetype": "text/x-python",
   "name": "python",
   "nbconvert_exporter": "python",
   "pygments_lexer": "ipython3",
   "version": "3.7.6"
  }
 },
 "nbformat": 4,
 "nbformat_minor": 4
}
