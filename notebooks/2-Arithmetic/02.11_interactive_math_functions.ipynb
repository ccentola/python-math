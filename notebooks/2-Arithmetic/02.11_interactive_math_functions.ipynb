{
 "cells": [
  {
   "cell_type": "markdown",
   "metadata": {},
   "source": [
    "# Create Interactive Math Functions"
   ]
  },
  {
   "cell_type": "code",
   "execution_count": 1,
   "metadata": {},
   "outputs": [
    {
     "name": "stdout",
     "output_type": "stream",
     "text": [
      "hello world\n"
     ]
    }
   ],
   "source": [
    "def my_function():\n",
    "    print('hello world')\n",
    "    \n",
    "my_function()"
   ]
  },
  {
   "cell_type": "code",
   "execution_count": 3,
   "metadata": {},
   "outputs": [],
   "source": [
    "def compute_remainder(x,y):\n",
    "    div = int(x/y)\n",
    "    remainder = x%y\n",
    "    \n",
    "    print(f'{y} goes into {x}, {div} times with a remainder of {remainder}')"
   ]
  },
  {
   "cell_type": "code",
   "execution_count": 4,
   "metadata": {},
   "outputs": [
    {
     "name": "stdout",
     "output_type": "stream",
     "text": [
      "2 goes into 10, 5 times with a remainder of 0\n"
     ]
    }
   ],
   "source": [
    "compute_remainder(10,2)"
   ]
  },
  {
   "cell_type": "code",
   "execution_count": 6,
   "metadata": {},
   "outputs": [
    {
     "name": "stdout",
     "output_type": "stream",
     "text": [
      "4 goes into 75, 18 times with a remainder of 3\n"
     ]
    }
   ],
   "source": [
    "compute_remainder(75,4)"
   ]
  },
  {
   "cell_type": "code",
   "execution_count": 12,
   "metadata": {},
   "outputs": [],
   "source": [
    "def compute_remainder_input():\n",
    "    \n",
    "    x = int(input('Input the numerator:'))\n",
    "    y = int(input('Input the denominator:'))\n",
    "    \n",
    "    div = int(x/y)\n",
    "    remainder = x%y\n",
    "    \n",
    "    print(f'{y} goes into {x}, {div} times with a remainder of {remainder}')"
   ]
  },
  {
   "cell_type": "code",
   "execution_count": 13,
   "metadata": {},
   "outputs": [
    {
     "name": "stdin",
     "output_type": "stream",
     "text": [
      "Input the numerator: 112\n",
      "Input the denominator: 73\n"
     ]
    },
    {
     "name": "stdout",
     "output_type": "stream",
     "text": [
      "73 goes into 112, 1 times with a remainder of 39\n"
     ]
    }
   ],
   "source": [
    "compute_remainder_input()"
   ]
  },
  {
   "cell_type": "code",
   "execution_count": null,
   "metadata": {},
   "outputs": [],
   "source": []
  }
 ],
 "metadata": {
  "kernelspec": {
   "display_name": "Python 3",
   "language": "python",
   "name": "python3"
  },
  "language_info": {
   "codemirror_mode": {
    "name": "ipython",
    "version": 3
   },
   "file_extension": ".py",
   "mimetype": "text/x-python",
   "name": "python",
   "nbconvert_exporter": "python",
   "pygments_lexer": "ipython3",
   "version": "3.7.6"
  }
 },
 "nbformat": 4,
 "nbformat_minor": 4
}
